{
 "cells": [
  {
   "cell_type": "code",
   "execution_count": 52,
   "metadata": {},
   "outputs": [],
   "source": [
    "from rdkit import Chem\n",
    "from rdkit.Chem.Draw import IPythonConsole"
   ]
  },
  {
   "cell_type": "code",
   "execution_count": 57,
   "metadata": {},
   "outputs": [],
   "source": [
    "m = Chem.MolFromSmiles('c1cc(C(=O)O)c(OC(=O)C)cc1')"
   ]
  },
  {
   "cell_type": "code",
   "execution_count": 58,
   "metadata": {},
   "outputs": [
    {
     "data": {
      "image/png": "[encoded data removed]",
      "text/plain": [
       "<rdkit.Chem.rdchem.Mol at 0x7ff47840b3a0>"
      ]
     },
     "execution_count": 58,
     "metadata": {},
     "output_type": "execute_result"
    }
   ],
   "source": [
    "m"
   ]
  },
  {
   "cell_type": "code",
   "execution_count": 74,
   "metadata": {},
   "outputs": [],
   "source": [
    "# you can also manually set the atoms that should be highlighted:\n",
    "m.__sssAtoms = [0,0,0,1]"
   ]
  },
  {
   "cell_type": "code",
   "execution_count": 75,
   "metadata": {},
   "outputs": [
    {
     "data": {
      "image/png": "[encoded data removed]",
      "text/plain": [
       "<rdkit.Chem.rdchem.Mol at 0x7ff47840b3a0>"
      ]
     },
     "execution_count": 75,
     "metadata": {},
     "output_type": "execute_result"
    }
   ],
   "source": [
    "m"
   ]
  },
  {
   "cell_type": "code",
   "execution_count": 22,
   "metadata": {},
   "outputs": [],
   "source": [
    "from rdkit import Chem, rdBase\n",
    "from rdkit.Chem import rdDepictor\n",
    "from rdkit.Chem import Draw\n",
    "from rdkit.Chem import AllChem\n",
    "from rdkit.Chem.Draw import rdMolDraw2D\n",
    "from json import dumps"
   ]
  },
  {
   "cell_type": "code",
   "execution_count": 23,
   "metadata": {},
   "outputs": [],
   "source": [
    "\n",
    "COLS = [(1.0, 0.0, 0.0), (0.0, 1.0, 0.0),\n",
    "        (0.0, 0.0, 1.0), (1.0, 0.55, 1.0)]"
   ]
  },
  {
   "cell_type": "code",
   "execution_count": 51,
   "metadata": {},
   "outputs": [],
   "source": [
    "\n",
    "def get_hit_atoms_and_bonds(mol, smt):\n",
    "    alist = []\n",
    "    blist = []\n",
    "    q = Chem.MolFromSmarts(smt)\n",
    "    for match in mol.GetSubstructMatches(q):\n",
    "        alist.extend(match)\n",
    "\n",
    "    for ha1 in alist:\n",
    "        for ha2 in alist:\n",
    "            if ha1 > ha2:\n",
    "                b = mol.GetBondBetweenAtoms(ha1, ha2)\n",
    "                if b:\n",
    "                    blist.append(b.GetIdx())\n",
    "    \n",
    "    return alist, blist\n",
    "\n",
    "\n",
    "def add_colours_to_map(els, cols, col_num):\n",
    "    for el in els:\n",
    "        if el not in cols:\n",
    "            cols[el] = []\n",
    "        if COLS[col_num] not in cols[el]:\n",
    "            cols[el].append(COLS[col_num])\n",
    "\n",
    "neg_color = [40, 100, 40 ]\n",
    "pos_color = [100, 40, 100]\n",
    "no_color = [0, 0, 0]\n",
    "def do_a_picture(smi, smarts, filename, label, fmt='svg'):\n",
    "\n",
    "    rdDepictor.SetPreferCoordGen(True)\n",
    "    mol = Chem.MolFromSmiles(smi)\n",
    "    mol = Draw.PrepareMolForDrawing(mol)\n",
    "\n",
    "    acols = {}\n",
    "    bcols = {}\n",
    "    h_rads = {}\n",
    "    h_lw_mult = {}\n",
    "\n",
    "    for i, smt in enumerate(smarts):\n",
    "        alist, blist = get_hit_atoms_and_bonds(mol, smt)\n",
    "        print(\"alist:\", alist)\n",
    "        print(\"blist:\", blist)\n",
    "        col = i % 4\n",
    "        add_colours_to_map(alist, acols, col)\n",
    "        add_colours_to_map(blist, bcols, col)\n",
    "        print(\"aclos:\", acols)\n",
    "        print(\"bcols:\", bcols)\n",
    "    \n",
    "    if fmt == 'svg':\n",
    "        d = rdMolDraw2D.MolDraw2DSVG(300, 300)\n",
    "        mode = 'w'\n",
    "    elif fmt == 'png':\n",
    "        d = rdMolDraw2D.MolDraw2DCairo(300, 300)\n",
    "        mode = 'wb'\n",
    "    else:\n",
    "        print('unknown format {}'.format(fmt))\n",
    "        return\n",
    "    \n",
    "    d.drawOptions().fillHighlights = True\n",
    "    d.DrawMoleculeWithHighlights(mol, label, acols, bcols, h_rads, h_lw_mult, -1)\n",
    "    d.FinishDrawing()\n",
    "        \n",
    "    with open(filename, mode) as f:\n",
    "        f.write(d.GetDrawingText())"
   ]
  },
  {
   "cell_type": "code",
   "execution_count": 49,
   "metadata": {},
   "outputs": [],
   "source": [
    "smi = 'CO[C@@H](O)C1=C(O[C@H](F)Cl)C(C#N)=C1ONNC[NH3+]'\n",
    "smarts = ['CONN', 'N#CC~CO', 'C=CON', 'CONNCN']\n",
    "smarts_1 = ['CO[C@@H](O)C1=C(O[C@H](F)Cl)C(C#N)=C1ONNC[NH3+]']"
   ]
  },
  {
   "cell_type": "code",
   "execution_count": 65,
   "metadata": {},
   "outputs": [
    {
     "name": "stdout",
     "output_type": "stream",
     "text": [
      "alist: [13, 14, 15, 16]\n",
      "blist: [13, 14, 15]\n",
      "aclos: {13: [(1.0, 0.0, 0.0)], 14: [(1.0, 0.0, 0.0)], 15: [(1.0, 0.0, 0.0)], 16: [(1.0, 0.0, 0.0)]}\n",
      "bcols: {13: [(1.0, 0.0, 0.0)], 14: [(1.0, 0.0, 0.0)], 15: [(1.0, 0.0, 0.0)]}\n"
     ]
    }
   ],
   "source": [
    "do_a_picture(smi, smarts_1, 'atom_highlights_3_v1.png', '', fmt='png')"
   ]
  },
  {
   "cell_type": "code",
   "execution_count": null,
   "metadata": {},
   "outputs": [],
   "source": [
    "dataset.num_node_features"
   ]
  }
 ],
 "metadata": {
  "kernelspec": {
   "display_name": "Python 3.8.2 ('py38')",
   "language": "python",
   "name": "python3"
  },
  "language_info": {
   "codemirror_mode": {
    "name": "ipython",
    "version": 3
   },
   "file_extension": ".py",
   "mimetype": "text/x-python",
   "name": "python",
   "nbconvert_exporter": "python",
   "pygments_lexer": "ipython3",
   "version": "3.8.2"
  },
  "orig_nbformat": 4,
  "vscode": {
   "interpreter": {
    "hash": "64bcadabe4cd61f3d117ba0da9d14bf2f8e35582ff79e821f2e71056f2723d1e"
   }
  }
 },
 "nbformat": 4,
 "nbformat_minor": 2
}
